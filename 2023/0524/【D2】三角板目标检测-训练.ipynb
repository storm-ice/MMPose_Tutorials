{
 "cells": [
  {
   "cell_type": "markdown",
   "id": "283db6c5-7f78-4a9b-8212-f61269bd9a2d",
   "metadata": {},
   "source": [
    "# 三角板目标检测-训练\n",
    "\n",
    "同济子豪兄 2023-4-3"
   ]
  },
  {
   "cell_type": "markdown",
   "id": "ff24ce0c-d715-4864-992f-c44e3d69ba25",
   "metadata": {},
   "source": [
    "## 进入mmdetection主目录"
   ]
  },
  {
   "cell_type": "code",
   "execution_count": 1,
   "id": "0ec62b16-80ce-41eb-8c78-9c6d374bb961",
   "metadata": {},
   "outputs": [],
   "source": [
    "import os\n",
    "os.chdir('mmdetection')"
   ]
  },
  {
   "cell_type": "code",
   "execution_count": 4,
   "id": "3a699b81-df13-40c4-ab8a-b3d7337ee88d",
   "metadata": {},
   "outputs": [
    {
     "name": "stdout",
     "output_type": "stream",
     "text": [
      "/e/openmmlab/MMPose_Tutorials/2023/0524/mmdetection\n"
     ]
    }
   ],
   "source": [
    "!pwd"
   ]
  },
  {
   "cell_type": "markdown",
   "id": "6c338d79-bff4-426d-8b05-19fcaddbafb5",
   "metadata": {},
   "source": [
    "## 目标检测算法：Faster R CNN"
   ]
  },
  {
   "cell_type": "code",
   "execution_count": 2,
   "id": "ef42087d-8ff3-433e-a06d-3bdeff6614d7",
   "metadata": {},
   "outputs": [
    {
     "name": "stderr",
     "output_type": "stream",
     "text": [
      "Traceback (most recent call last):\n",
      "  File \"tools/train.py\", line 121, in <module>\n",
      "    main()\n",
      "  File \"tools/train.py\", line 68, in main\n",
      "    cfg = Config.fromfile(args.config)\n",
      "  File \"D:\\Anaconda3\\envs\\openmmlab\\lib\\site-packages\\mmengine\\config\\config.py\", line 456, in fromfile\n",
      "    lazy_import is None and not Config._is_lazy_import(filename):\n",
      "  File \"D:\\Anaconda3\\envs\\openmmlab\\lib\\site-packages\\mmengine\\config\\config.py\", line 1655, in _is_lazy_import\n",
      "    with open(filename, encoding='utf-8') as f:\n",
      "FileNotFoundError: [Errno 2] No such file or directory: 'data/faster_r_cnn_triangle.py'\n"
     ]
    }
   ],
   "source": [
    "# 建议在命令行中运行\n",
    "!python tools/train.py data/faster_r_cnn_triangle.py"
   ]
  },
  {
   "cell_type": "markdown",
   "id": "518c6242-40ae-46a5-9e97-20334a5b9df3",
   "metadata": {},
   "source": [
    "## 目标检测算法：RTMDet"
   ]
  },
  {
   "cell_type": "code",
   "execution_count": null,
   "id": "cb5079c6-75c5-4c1b-a258-a47d210d45dd",
   "metadata": {},
   "outputs": [],
   "source": [
    "# 建议在命令行中运行\n",
    "!python tools/train.py data/rtmdet_tiny_triangle.py"
   ]
  },
  {
   "cell_type": "markdown",
   "id": "7c109d6d-fe41-4097-8cf4-a968bea7a004",
   "metadata": {},
   "source": [
    "## 在`work_dirs`目录下，查看训练日志和训练得到的模型权重文件"
   ]
  },
  {
   "cell_type": "markdown",
   "id": "fdd2779d-859f-4121-b013-c37e048f196c",
   "metadata": {},
   "source": [
    "## 测试集上评估模型精度"
   ]
  },
  {
   "cell_type": "code",
   "execution_count": 7,
   "id": "08f57375-15fd-4a7d-9b1c-71ae1e2a5647",
   "metadata": {},
   "outputs": [],
   "source": [
    "!python tools/test.py data/rtmdet_tiny_triangle.py \\\n",
    "                      work_dirs/rtmdet_tiny_triangle/epoch_200.pth"
   ]
  }
 ],
 "metadata": {
  "kernelspec": {
   "display_name": "Python 3 (ipykernel)",
   "language": "python",
   "name": "python3"
  },
  "language_info": {
   "codemirror_mode": {
    "name": "ipython",
    "version": 3
   },
   "file_extension": ".py",
   "mimetype": "text/x-python",
   "name": "python",
   "nbconvert_exporter": "python",
   "pygments_lexer": "ipython3",
   "version": "3.8.18"
  }
 },
 "nbformat": 4,
 "nbformat_minor": 5
}
