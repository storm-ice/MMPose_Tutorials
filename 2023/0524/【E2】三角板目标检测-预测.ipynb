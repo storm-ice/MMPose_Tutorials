{
 "cells": [
  {
   "cell_type": "markdown",
   "id": "ab3fbe6f-6d2f-4a00-abd4-04a486d98fd1",
   "metadata": {},
   "source": [
    "# 三角板目标检测-预测\n",
    "\n",
    "同济子豪兄 2023-4-4"
   ]
  },
  {
   "cell_type": "markdown",
   "id": "b80f81bd-021e-4fc8-be2c-637e74b5e739",
   "metadata": {},
   "source": [
    "## 进入mmdetection主目录"
   ]
  },
  {
   "cell_type": "code",
   "execution_count": 1,
   "id": "c23edb0e-5239-4bd1-9b7c-90710eee37bd",
   "metadata": {},
   "outputs": [],
   "source": [
    "import os\n",
    "os.chdir('mmdetection')"
   ]
  },
  {
   "cell_type": "code",
   "execution_count": 2,
   "id": "caca534b-54aa-4169-9500-b9eb7e5771a6",
   "metadata": {},
   "outputs": [
    {
     "name": "stdout",
     "output_type": "stream",
     "text": [
      "/e/openmmlab/MMPose_Tutorials/2023/0524/mmdetection\n"
     ]
    }
   ],
   "source": [
    "!pwd"
   ]
  },
  {
   "cell_type": "markdown",
   "id": "165bbef3-c3d3-49ad-8308-9c6c2ee691f0",
   "metadata": {},
   "source": [
    "## 目标检测预测-单张图像"
   ]
  },
  {
   "cell_type": "code",
   "execution_count": 3,
   "id": "ffa84a03-216f-4b08-91db-73a1d22b4424",
   "metadata": {},
   "outputs": [
    {
     "name": "stdout",
     "output_type": "stream",
     "text": [
      "Loads checkpoint by local backend from path: checkpoint/faster_r_cnn_triangle_epoch_50_202305120846-76d9dde3.pth\n",
      "12/12 17:09:25 - mmengine - \u001b[5m\u001b[4m\u001b[33mWARNING\u001b[0m - Failed to search registry with scope \"mmdet\" in the \"function\" registry tree. As a workaround, the current \"function\" registry in \"mmengine\" is used to build instance. This may cause unexpected failure when running the built modules. Please check whether \"mmdet\" is a correct scope, or whether the registry is initialized.\n",
      "\n",
      "Inference ----------------------------------------   \n",
      "Inference ----------------------------------------   \n",
      "Inference ----------------------------------------   \n"
     ]
    },
    {
     "name": "stderr",
     "output_type": "stream",
     "text": [
      "D:\\Anaconda3\\envs\\openmmlab\\lib\\site-packages\\mmengine\\visualization\\visualizer.py:196: UserWarning: Failed to add <class 'mmengine.visualization.vis_backend.LocalVisBackend'>, please provide the `save_dir` argument.\n",
      "  warnings.warn(f'Failed to add {vis_backend.__class__}, '\n",
      "Traceback (most recent call last):\n",
      "  File \"demo/image_demo.py\", line 136, in <module>\n",
      "    main()\n",
      "  File \"demo/image_demo.py\", line 128, in main\n",
      "    inferencer(**call_args)\n",
      "  File \"e:\\openmmlab\\mmpose_tutorials\\2023\\0524\\mmdetection\\mmdet\\apis\\det_inferencer.py\", line 393, in __call__\n",
      "    for ori_imgs, data in (track(inputs, description='Inference')\n",
      "  File \"D:\\Anaconda3\\envs\\openmmlab\\lib\\site-packages\\rich\\progress.py\", line 168, in track\n",
      "    yield from progress.track(\n",
      "  File \"D:\\Anaconda3\\envs\\openmmlab\\lib\\site-packages\\rich\\progress.py\", line 1210, in track\n",
      "    for value in sequence:\n",
      "  File \"e:\\openmmlab\\mmpose_tutorials\\2023\\0524\\mmdetection\\mmdet\\apis\\det_inferencer.py\", line 261, in preprocess\n",
      "    yield from map(self.collate_fn, chunked_data)\n",
      "  File \"e:\\openmmlab\\mmpose_tutorials\\2023\\0524\\mmdetection\\mmdet\\apis\\det_inferencer.py\", line 288, in _get_chunk_data\n",
      "    chunk_data.append((inputs_, self.pipeline(inputs_)))\n",
      "  File \"D:\\Anaconda3\\envs\\openmmlab\\lib\\site-packages\\mmengine\\dataset\\base_dataset.py\", line 60, in __call__\n",
      "    data = t(data)\n",
      "  File \"D:\\Anaconda3\\envs\\openmmlab\\lib\\site-packages\\mmcv\\transforms\\base.py\", line 12, in __call__\n",
      "    return self.transform(results)\n",
      "  File \"e:\\openmmlab\\mmpose_tutorials\\2023\\0524\\mmdetection\\mmdet\\datasets\\transforms\\loading.py\", line 926, in transform\n",
      "    return self.from_file(inputs)\n",
      "  File \"D:\\Anaconda3\\envs\\openmmlab\\lib\\site-packages\\mmcv\\transforms\\base.py\", line 12, in __call__\n",
      "    return self.transform(results)\n",
      "  File \"D:\\Anaconda3\\envs\\openmmlab\\lib\\site-packages\\mmcv\\transforms\\loading.py\", line 107, in transform\n",
      "    raise e\n",
      "  File \"D:\\Anaconda3\\envs\\openmmlab\\lib\\site-packages\\mmcv\\transforms\\loading.py\", line 99, in transform\n",
      "    img_bytes = fileio.get(\n",
      "  File \"D:\\Anaconda3\\envs\\openmmlab\\lib\\site-packages\\mmengine\\fileio\\io.py\", line 181, in get\n",
      "    return backend.get(filepath)\n",
      "  File \"D:\\Anaconda3\\envs\\openmmlab\\lib\\site-packages\\mmengine\\fileio\\backends\\local_backend.py\", line 33, in get\n",
      "    with open(filepath, 'rb') as f:\n",
      "FileNotFoundError: [Errno 2] No such file or directory: 'data/test_triangle/triangle_3.jpg'\n"
     ]
    }
   ],
   "source": [
    "# Faster R CNN\n",
    "!python demo/image_demo.py \\\n",
    "        data/test_triangle/triangle_3.jpg \\\n",
    "        data/faster_r_cnn_triangle.py \\\n",
    "        --weights checkpoint/faster_r_cnn_triangle_epoch_50_202305120846-76d9dde3.pth \\\n",
    "        --out-dir outputs/E2_faster_r_cnn \\\n",
    "        --device cuda:0 \\\n",
    "        --pred-score-thr 0.3"
   ]
  },
  {
   "cell_type": "code",
   "execution_count": 4,
   "id": "b82b7b68-ff31-4b90-a005-d56d0e9416d0",
   "metadata": {
    "tags": []
   },
   "outputs": [
    {
     "name": "stdout",
     "output_type": "stream",
     "text": [
      "Loads checkpoint by local backend from path: checkpoint/rtmdet_tiny_triangle_epoch_200_202305120847-3cd02a8f.pth\n",
      "12/12 17:11:04 - mmengine - \u001b[5m\u001b[4m\u001b[33mWARNING\u001b[0m - Failed to search registry with scope \"mmdet\" in the \"function\" registry tree. As a workaround, the current \"function\" registry in \"mmengine\" is used to build instance. This may cause unexpected failure when running the built modules. Please check whether \"mmdet\" is a correct scope, or whether the registry is initialized.\n",
      "\n",
      "Inference ----------------------------------------   \n",
      "Inference ----------------------------------------   \n",
      "Inference ----------------------------------------   \n"
     ]
    },
    {
     "name": "stderr",
     "output_type": "stream",
     "text": [
      "D:\\Anaconda3\\envs\\openmmlab\\lib\\site-packages\\mmengine\\visualization\\visualizer.py:196: UserWarning: Failed to add <class 'mmengine.visualization.vis_backend.LocalVisBackend'>, please provide the `save_dir` argument.\n",
      "  warnings.warn(f'Failed to add {vis_backend.__class__}, '\n",
      "Traceback (most recent call last):\n",
      "  File \"demo/image_demo.py\", line 136, in <module>\n",
      "    main()\n",
      "  File \"demo/image_demo.py\", line 128, in main\n",
      "    inferencer(**call_args)\n",
      "  File \"e:\\openmmlab\\mmpose_tutorials\\2023\\0524\\mmdetection\\mmdet\\apis\\det_inferencer.py\", line 393, in __call__\n",
      "    for ori_imgs, data in (track(inputs, description='Inference')\n",
      "  File \"D:\\Anaconda3\\envs\\openmmlab\\lib\\site-packages\\rich\\progress.py\", line 168, in track\n",
      "    yield from progress.track(\n",
      "  File \"D:\\Anaconda3\\envs\\openmmlab\\lib\\site-packages\\rich\\progress.py\", line 1210, in track\n",
      "    for value in sequence:\n",
      "  File \"e:\\openmmlab\\mmpose_tutorials\\2023\\0524\\mmdetection\\mmdet\\apis\\det_inferencer.py\", line 261, in preprocess\n",
      "    yield from map(self.collate_fn, chunked_data)\n",
      "  File \"e:\\openmmlab\\mmpose_tutorials\\2023\\0524\\mmdetection\\mmdet\\apis\\det_inferencer.py\", line 288, in _get_chunk_data\n",
      "    chunk_data.append((inputs_, self.pipeline(inputs_)))\n",
      "  File \"D:\\Anaconda3\\envs\\openmmlab\\lib\\site-packages\\mmengine\\dataset\\base_dataset.py\", line 60, in __call__\n",
      "    data = t(data)\n",
      "  File \"D:\\Anaconda3\\envs\\openmmlab\\lib\\site-packages\\mmcv\\transforms\\base.py\", line 12, in __call__\n",
      "    return self.transform(results)\n",
      "  File \"e:\\openmmlab\\mmpose_tutorials\\2023\\0524\\mmdetection\\mmdet\\datasets\\transforms\\loading.py\", line 926, in transform\n",
      "    return self.from_file(inputs)\n",
      "  File \"D:\\Anaconda3\\envs\\openmmlab\\lib\\site-packages\\mmcv\\transforms\\base.py\", line 12, in __call__\n",
      "    return self.transform(results)\n",
      "  File \"D:\\Anaconda3\\envs\\openmmlab\\lib\\site-packages\\mmcv\\transforms\\loading.py\", line 107, in transform\n",
      "    raise e\n",
      "  File \"D:\\Anaconda3\\envs\\openmmlab\\lib\\site-packages\\mmcv\\transforms\\loading.py\", line 99, in transform\n",
      "    img_bytes = fileio.get(\n",
      "  File \"D:\\Anaconda3\\envs\\openmmlab\\lib\\site-packages\\mmengine\\fileio\\io.py\", line 181, in get\n",
      "    return backend.get(filepath)\n",
      "  File \"D:\\Anaconda3\\envs\\openmmlab\\lib\\site-packages\\mmengine\\fileio\\backends\\local_backend.py\", line 33, in get\n",
      "    with open(filepath, 'rb') as f:\n",
      "FileNotFoundError: [Errno 2] No such file or directory: 'data/test_triangle/triangle_3.jpg'\n"
     ]
    }
   ],
   "source": [
    "# RTMDet\n",
    "!python demo/image_demo.py \\\n",
    "        data/test_triangle/triangle_3.jpg \\\n",
    "        data/rtmdet_tiny_triangle.py \\\n",
    "        --weights checkpoint/rtmdet_tiny_triangle_epoch_200_202305120847-3cd02a8f.pth \\\n",
    "        --out-dir outputs/E2_rtmdet \\\n",
    "        --device cuda:0 \\\n",
    "        --pred-score-thr 0.3"
   ]
  },
  {
   "cell_type": "markdown",
   "id": "66e27a2b-e77a-4377-a28a-69eadce8b49c",
   "metadata": {},
   "source": [
    "## 目标检测预测-视频"
   ]
  },
  {
   "cell_type": "code",
   "execution_count": 5,
   "id": "0321b7be-6d8f-45af-afc4-5b980e9c4537",
   "metadata": {},
   "outputs": [
    {
     "name": "stdout",
     "output_type": "stream",
     "text": [
      "Loads checkpoint by local backend from path: checkpoint/faster_r_cnn_triangle_epoch_50_202305120846-76d9dde3.pth\n"
     ]
    },
    {
     "name": "stderr",
     "output_type": "stream",
     "text": [
      "D:\\Anaconda3\\envs\\openmmlab\\lib\\site-packages\\mmengine\\visualization\\visualizer.py:196: UserWarning: Failed to add <class 'mmengine.visualization.vis_backend.LocalVisBackend'>, please provide the `save_dir` argument.\n",
      "  warnings.warn(f'Failed to add {vis_backend.__class__}, '\n",
      "Traceback (most recent call last):\n",
      "  File \"demo/video_demo.py\", line 84, in <module>\n",
      "    main()\n",
      "  File \"demo/video_demo.py\", line 53, in main\n",
      "    video_reader = mmcv.VideoReader(args.video)\n",
      "  File \"D:\\Anaconda3\\envs\\openmmlab\\lib\\site-packages\\mmcv\\video\\io.py\", line 65, in __init__\n",
      "    check_file_exist(filename, 'Video file not found: ' + filename)\n",
      "  File \"D:\\Anaconda3\\envs\\openmmlab\\lib\\site-packages\\mmengine\\utils\\path.py\", line 23, in check_file_exist\n",
      "    raise FileNotFoundError(msg_tmpl.format(filename))\n",
      "FileNotFoundError: Video file not found: data/test_triangle/triangle_9.mp4\n"
     ]
    }
   ],
   "source": [
    "# Faster R CNN\n",
    "!python demo/video_demo.py \\\n",
    "        data/test_triangle/triangle_9.mp4 \\\n",
    "        data/faster_r_cnn_triangle.py \\\n",
    "        checkpoint/faster_r_cnn_triangle_epoch_50_202305120846-76d9dde3.pth \\\n",
    "        --device cuda:0 \\\n",
    "        --score-thr 0.96 \\\n",
    "        --out outputs/E2_out_video_faster_r_cnn.mp4"
   ]
  },
  {
   "cell_type": "code",
   "execution_count": 6,
   "id": "14a4f4c4-12f2-43dc-ad24-faf57d26bc27",
   "metadata": {},
   "outputs": [
    {
     "name": "stdout",
     "output_type": "stream",
     "text": [
      "Loads checkpoint by local backend from path: checkpoint/rtmdet_tiny_triangle_epoch_200_202305120847-3cd02a8f.pth\n"
     ]
    },
    {
     "name": "stderr",
     "output_type": "stream",
     "text": [
      "D:\\Anaconda3\\envs\\openmmlab\\lib\\site-packages\\mmengine\\visualization\\visualizer.py:196: UserWarning: Failed to add <class 'mmengine.visualization.vis_backend.LocalVisBackend'>, please provide the `save_dir` argument.\n",
      "  warnings.warn(f'Failed to add {vis_backend.__class__}, '\n",
      "Traceback (most recent call last):\n",
      "  File \"demo/video_demo.py\", line 84, in <module>\n",
      "    main()\n",
      "  File \"demo/video_demo.py\", line 53, in main\n",
      "    video_reader = mmcv.VideoReader(args.video)\n",
      "  File \"D:\\Anaconda3\\envs\\openmmlab\\lib\\site-packages\\mmcv\\video\\io.py\", line 65, in __init__\n",
      "    check_file_exist(filename, 'Video file not found: ' + filename)\n",
      "  File \"D:\\Anaconda3\\envs\\openmmlab\\lib\\site-packages\\mmengine\\utils\\path.py\", line 23, in check_file_exist\n",
      "    raise FileNotFoundError(msg_tmpl.format(filename))\n",
      "FileNotFoundError: Video file not found: data/test_triangle/triangle_9.mp4\n"
     ]
    }
   ],
   "source": [
    "# RTMDet\n",
    "!python demo/video_demo.py \\\n",
    "        data/test_triangle/triangle_9.mp4 \\\n",
    "        data/rtmdet_tiny_triangle.py \\\n",
    "        checkpoint/rtmdet_tiny_triangle_epoch_200_202305120847-3cd02a8f.pth \\\n",
    "        --device cuda:0 \\\n",
    "        --score-thr 0.6 \\\n",
    "        --out outputs/E2_out_video_rtmdet.mp4"
   ]
  },
  {
   "cell_type": "markdown",
   "id": "1abd2de0-c316-49a3-931d-b0fe61723ee8",
   "metadata": {},
   "source": [
    "## 目标检测预测-摄像头实时画面\n",
    "\n",
    "见本地运行的代码教程，需在本地调用摄像头运行，不能在云GPU平台运行"
   ]
  },
  {
   "cell_type": "code",
   "execution_count": null,
   "id": "55905481-5943-4871-a456-fb6def0c5146",
   "metadata": {},
   "outputs": [],
   "source": []
  }
 ],
 "metadata": {
  "kernelspec": {
   "display_name": "Python 3 (ipykernel)",
   "language": "python",
   "name": "python3"
  },
  "language_info": {
   "codemirror_mode": {
    "name": "ipython",
    "version": 3
   },
   "file_extension": ".py",
   "mimetype": "text/x-python",
   "name": "python",
   "nbconvert_exporter": "python",
   "pygments_lexer": "ipython3",
   "version": "3.8.18"
  }
 },
 "nbformat": 4,
 "nbformat_minor": 5
}
