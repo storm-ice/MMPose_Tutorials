{
 "cells": [
  {
   "cell_type": "markdown",
   "id": "dbf79b2f-99ef-47ce-9090-f405338b0c20",
   "metadata": {},
   "source": [
    "# 预训练RTMPose摄像头预测\n",
    "\n",
    "同济子豪兄 2023-5-18 5-23"
   ]
  },
  {
   "cell_type": "markdown",
   "id": "f58e8eff-843b-4dac-800b-87a59a614912",
   "metadata": {},
   "source": [
    "## 进入mmpose目录"
   ]
  },
  {
   "cell_type": "code",
   "execution_count": 5,
   "id": "29802c1d-12f3-40b3-bf91-865cf8a0c870",
   "metadata": {},
   "outputs": [],
   "source": [
    "import os\n",
    "os.chdir('mmpose')"
   ]
  },
  {
   "cell_type": "code",
   "execution_count": 3,
   "id": "f1d3e2f8-c4d2-4dda-9388-df3b319d99bb",
   "metadata": {},
   "outputs": [],
   "source": [
    "os.chdir('..')"
   ]
  },
  {
   "cell_type": "code",
   "execution_count": 16,
   "id": "b972b03b-5182-43f5-a462-c704eaade19c",
   "metadata": {},
   "outputs": [
    {
     "name": "stdout",
     "output_type": "stream",
     "text": [
      "/e/openmmlab/MMPose_Tutorials/2023/0524/mmpose\n"
     ]
    }
   ],
   "source": [
    "!pwd"
   ]
  },
  {
   "cell_type": "markdown",
   "id": "54dd745d-936c-473b-8240-c791b860714d",
   "metadata": {},
   "source": [
    "## 预训练模型\n",
    "\n",
    "RTMDet：https://github.com/open-mmlab/mmdetection/tree/3.x/configs/rtmdet\n",
    "\n",
    "RTMPose：https://github.com/open-mmlab/mmpose/tree/dev-1.x/projects/rtmpose"
   ]
  },
  {
   "cell_type": "markdown",
   "id": "390c0ff0-a12f-4157-ac1e-8c95b087f7f5",
   "metadata": {},
   "source": [
    "## 摄像头预测"
   ]
  },
  {
   "cell_type": "code",
   "execution_count": 17,
   "id": "f651f3e6-02d3-4cbd-b260-df2a3e96a39a",
   "metadata": {},
   "outputs": [
    {
     "name": "stdout",
     "output_type": "stream",
     "text": [
      "Loads checkpoint by http backend from path: https://download.openmmlab.com/mmdetection/v3.0/rtmdet/rtmdet_tiny_8xb32-300e_coco/rtmdet_tiny_8xb32-300e_coco_20220902_112414-78e30dcc.pth\n",
      "The model and loaded state dict do not match exactly\n",
      "\n",
      "unexpected key in source state_dict: data_preprocessor.mean, data_preprocessor.std\n",
      "\n",
      "Loads checkpoint by local backend from path: checkpoint/rtmpose_s_triangle_300-34bfaeb2_20230512.pth\n"
     ]
    },
    {
     "name": "stderr",
     "output_type": "stream",
     "text": [
      "Traceback (most recent call last):\n",
      "  File \"demo/topdown_demo_with_mmdet.py\", line 292, in <module>\n",
      "    main()\n",
      "  File \"demo/topdown_demo_with_mmdet.py\", line 183, in main\n",
      "    pose_estimator = init_pose_estimator(\n",
      "  File \"e:\\mmpose\\mmpose\\apis\\inference.py\", line 110, in init_model\n",
      "    ckpt = load_checkpoint(model, checkpoint, map_location='cpu')\n",
      "  File \"D:\\Anaconda3\\envs\\openmmlab\\lib\\site-packages\\mmengine\\runner\\checkpoint.py\", line 636, in load_checkpoint\n",
      "    checkpoint = _load_checkpoint(filename, map_location, logger)\n",
      "  File \"D:\\Anaconda3\\envs\\openmmlab\\lib\\site-packages\\mmengine\\runner\\checkpoint.py\", line 548, in _load_checkpoint\n",
      "    return CheckpointLoader.load_checkpoint(filename, map_location, logger)\n",
      "  File \"D:\\Anaconda3\\envs\\openmmlab\\lib\\site-packages\\mmengine\\runner\\checkpoint.py\", line 330, in load_checkpoint\n",
      "    return checkpoint_loader(filename, map_location)\n",
      "  File \"D:\\Anaconda3\\envs\\openmmlab\\lib\\site-packages\\mmengine\\runner\\checkpoint.py\", line 346, in load_from_local\n",
      "    raise FileNotFoundError(f'{filename} can not be found.')\n",
      "FileNotFoundError: checkpoint/rtmpose_s_triangle_300-34bfaeb2_20230512.pth can not be found.\n"
     ]
    }
   ],
   "source": [
    "# RTMDet --> RTMPose\n",
    "!python demo/topdown_demo_with_mmdet.py \\\n",
    "        ../mmdetection/configs/rtmdet/rtmdet_tiny_8xb32-300e_coco.py \\\n",
    "        https://download.openmmlab.com/mmdetection/v3.0/rtmdet/rtmdet_tiny_8xb32-300e_coco/rtmdet_tiny_8xb32-300e_coco_20220902_112414-78e30dcc.pth \\\n",
    "        data/rtmpose-s-triangle.py \\\n",
    "        checkpoint/rtmpose_s_triangle_300-34bfaeb2_20230512.pth \\\n",
    "        --input webcam \\\n",
    "        --output-root outputs/G2_Video \\\n",
    "        --device cpu \\\n",
    "        --bbox-thr 0.6 \\\n",
    "        --kpt-thr 0.5 \\\n",
    "        --nms-thr 0.3 \\\n",
    "        --radius 16 \\\n",
    "        --thickness 3 \\\n",
    "        --draw-bbox \\\n",
    "        --draw-heatmap \\\n",
    "        --show-kpt-idx \\\n",
    "        --show "
   ]
  },
  {
   "cell_type": "code",
   "execution_count": null,
   "id": "cccd860a-e2f8-4f00-9069-9e07c4c2188a",
   "metadata": {},
   "outputs": [],
   "source": []
  }
 ],
 "metadata": {
  "kernelspec": {
   "display_name": "Python 3 (ipykernel)",
   "language": "python",
   "name": "python3"
  },
  "language_info": {
   "codemirror_mode": {
    "name": "ipython",
    "version": 3
   },
   "file_extension": ".py",
   "mimetype": "text/x-python",
   "name": "python",
   "nbconvert_exporter": "python",
   "pygments_lexer": "ipython3",
   "version": "3.8.18"
  }
 },
 "nbformat": 4,
 "nbformat_minor": 5
}
