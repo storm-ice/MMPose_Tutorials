{
 "cells": [
  {
   "cell_type": "markdown",
   "id": "0dce0462",
   "metadata": {},
   "source": [
    "# 摄像头实时预测-三角板目标检测\n",
    "\n",
    "同济子豪兄 2023-4-5"
   ]
  },
  {
   "cell_type": "markdown",
   "id": "b04efb4a",
   "metadata": {},
   "source": [
    "## 进入MMDetection主目录"
   ]
  },
  {
   "cell_type": "code",
   "execution_count": 4,
   "id": "90d85a33",
   "metadata": {},
   "outputs": [],
   "source": [
    "import os\n",
    "os.chdir('mmdetection')"
   ]
  },
  {
   "cell_type": "code",
   "execution_count": 2,
   "id": "49fa38fb-3208-49ad-9651-498c488fcd01",
   "metadata": {},
   "outputs": [],
   "source": [
    "import os\n",
    "os.chdir('..')"
   ]
  },
  {
   "cell_type": "code",
   "execution_count": 5,
   "id": "f6af6204-05d3-4a38-bfb8-85099907fd21",
   "metadata": {},
   "outputs": [
    {
     "name": "stdout",
     "output_type": "stream",
     "text": [
      "/e/openmmlab/MMPose_Tutorials/2023/0524/mmdetection\n"
     ]
    }
   ],
   "source": [
    "!pwd"
   ]
  },
  {
   "cell_type": "markdown",
   "id": "faeaf578",
   "metadata": {},
   "source": [
    "## 调用摄像头实时预测（按ESC键退出）"
   ]
  },
  {
   "cell_type": "code",
   "execution_count": 6,
   "id": "b7cb6a9c",
   "metadata": {},
   "outputs": [
    {
     "name": "stdout",
     "output_type": "stream",
     "text": [
      "Loads checkpoint by local backend from path: checkpoint/rtmdet_tiny_triangle_epoch_200_202305120847-3cd02a8f.pth\n",
      "Press \"Esc\", \"q\" or \"Q\" to exit.\n"
     ]
    },
    {
     "name": "stderr",
     "output_type": "stream",
     "text": [
      "D:\\Anaconda3\\envs\\openmmlab\\lib\\site-packages\\mmengine\\visualization\\visualizer.py:196: UserWarning: Failed to add <class 'mmengine.visualization.vis_backend.LocalVisBackend'>, please provide the `save_dir` argument.\n",
      "  warnings.warn(f'Failed to add {vis_backend.__class__}, '\n",
      "D:\\Anaconda3\\envs\\openmmlab\\lib\\site-packages\\torch\\functional.py:504: UserWarning: torch.meshgrid: in an upcoming release, it will be required to pass the indexing argument. (Triggered internally at C:\\cb\\pytorch_1000000000000\\work\\aten\\src\\ATen\\native\\TensorShape.cpp:3527.)\n",
      "  return _VF.meshgrid(tensors, **kwargs)  # type: ignore[attr-defined]\n",
      "D:\\Anaconda3\\envs\\openmmlab\\lib\\site-packages\\mmengine\\visualization\\visualizer.py:760: UserWarning: Warning: The bbox is out of bounds, the drawn bbox may not be in the image\n",
      "  warnings.warn(\n",
      "D:\\Anaconda3\\envs\\openmmlab\\lib\\site-packages\\mmengine\\visualization\\visualizer.py:831: UserWarning: Warning: The polygon is out of bounds, the drawn polygon may not be in the image\n",
      "  warnings.warn(\n"
     ]
    }
   ],
   "source": [
    "# RTMDet 三角板目标检测\n",
    "!python demo/webcam_demo.py \\\n",
    "        data/rtmdet_tiny_triangle.py \\\n",
    "        checkpoint/rtmdet_tiny_triangle_epoch_200_202305120847-3cd02a8f.pth \\\n",
    "        --device cpu \\\n",
    "        --camera-id 0 \\\n",
    "        --score-thr 0.5"
   ]
  },
  {
   "cell_type": "code",
   "execution_count": null,
   "id": "8ea988e9",
   "metadata": {},
   "outputs": [],
   "source": [
    "# # Faster R CNN 三角板目标检测 运行太慢\n",
    "# !python demo/webcam_demo.py \\\n",
    "#         data/faster_r_cnn_triangle.py \\\n",
    "#         checkpoint/faster_r_cnn_triangle_epoch_50_202304052050-1e56824f.pth \\\n",
    "#         --device cpu \\\n",
    "#         --camera-id 0 \\\n",
    "#         --score-thr 0.5"
   ]
  }
 ],
 "metadata": {
  "kernelspec": {
   "display_name": "Python 3 (ipykernel)",
   "language": "python",
   "name": "python3"
  },
  "language_info": {
   "codemirror_mode": {
    "name": "ipython",
    "version": 3
   },
   "file_extension": ".py",
   "mimetype": "text/x-python",
   "name": "python",
   "nbconvert_exporter": "python",
   "pygments_lexer": "ipython3",
   "version": "3.8.18"
  }
 },
 "nbformat": 4,
 "nbformat_minor": 5
}
